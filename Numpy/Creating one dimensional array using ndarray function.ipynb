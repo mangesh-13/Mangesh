{
 "cells": [
  {
   "cell_type": "code",
   "execution_count": 1,
   "metadata": {},
   "outputs": [],
   "source": [
    "import numpy as np"
   ]
  },
  {
   "cell_type": "code",
   "execution_count": 2,
   "metadata": {},
   "outputs": [
    {
     "name": "stdout",
     "output_type": "stream",
     "text": [
      "Enter the size5\n",
      "[-702277504        446          0          0     131074]\n"
     ]
    }
   ],
   "source": [
    "n=int(input(\"Enter the size\"))\n",
    "arr = np.ndarray(shape=(n),dtype=int)\n",
    "print(arr)"
   ]
  },
  {
   "cell_type": "code",
   "execution_count": 4,
   "metadata": {},
   "outputs": [
    {
     "name": "stdout",
     "output_type": "stream",
     "text": [
      "Enter the size:5\n",
      "[-701878256        446          0          0          1]\n",
      "Enter 5 elements:\n",
      "5\n",
      "4\n",
      "6\n",
      "2\n",
      "1\n",
      "[5 4 6 2 1]\n"
     ]
    }
   ],
   "source": [
    "n=int(input(\"Enter the size:\"))\n",
    "a = np.ndarray(shape=(n),dtype=int)\n",
    "print(a)\n",
    "print(\"Enter %d elements:\"%n)\n",
    "for i in range(n):\n",
    "    a[i]= int(input())\n",
    "print(a)"
   ]
  },
  {
   "cell_type": "code",
   "execution_count": 5,
   "metadata": {},
   "outputs": [
    {
     "name": "stdout",
     "output_type": "stream",
     "text": [
      "Enter the size:6\n",
      "[0. 0. 0. 0. 0. 0.]\n",
      "enter 6 elements:\n",
      "4\n",
      "5\n",
      "8\n",
      "10\n",
      "45\n",
      "60\n",
      "[ 4.  5.  8. 10. 45. 60.]\n"
     ]
    }
   ],
   "source": [
    "n=int(input(\"Enter the size:\"))\n",
    "array = np.ndarray(shape=(n))\n",
    "print(array)\n",
    "print(\"enter %d elements:\"%n)\n",
    "for i in range(n):\n",
    "    array[i]=input()\n",
    "print(array)"
   ]
  },
  {
   "cell_type": "code",
   "execution_count": 6,
   "metadata": {},
   "outputs": [
    {
     "name": "stdout",
     "output_type": "stream",
     "text": [
      "Enter the size:4\n",
      "[9.48203159e-312 1.29060531e-306 1.02359984e-306 2.22522596e-306]\n",
      "enter 4 elements:\n",
      "5\n",
      "6\n",
      "7\n",
      "8\n",
      "[5. 6. 7. 8.]\n"
     ]
    }
   ],
   "source": [
    "n=int(input(\"Enter the size:\"))\n",
    "ar = np.ndarray(shape=(n))\n",
    "print(ar)\n",
    "print(\"enter %d elements:\"%n)\n",
    "for i in range(n):\n",
    "    ar[i]=int(input())\n",
    "print(ar)"
   ]
  },
  {
   "cell_type": "code",
   "execution_count": null,
   "metadata": {},
   "outputs": [],
   "source": []
  }
 ],
 "metadata": {
  "kernelspec": {
   "display_name": "Python 3",
   "language": "python",
   "name": "python3"
  },
  "language_info": {
   "codemirror_mode": {
    "name": "ipython",
    "version": 3
   },
   "file_extension": ".py",
   "mimetype": "text/x-python",
   "name": "python",
   "nbconvert_exporter": "python",
   "pygments_lexer": "ipython3",
   "version": "3.7.6"
  }
 },
 "nbformat": 4,
 "nbformat_minor": 4
}
