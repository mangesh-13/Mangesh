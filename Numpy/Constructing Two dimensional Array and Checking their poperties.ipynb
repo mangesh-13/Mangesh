{
 "cells": [
  {
   "cell_type": "code",
   "execution_count": 3,
   "metadata": {},
   "outputs": [],
   "source": [
    "import numpy as np"
   ]
  },
  {
   "cell_type": "code",
   "execution_count": 5,
   "metadata": {},
   "outputs": [
    {
     "name": "stdout",
     "output_type": "stream",
     "text": [
      "Enter row size:4\n",
      "Enter column size:3\n",
      "[[0 0 0]\n",
      " [0 0 0]\n",
      " [0 0 0]\n",
      " [0 0 0]]\n"
     ]
    }
   ],
   "source": [
    "rows = int(input(\"Enter row size:\"))\n",
    "columns = int(input(\"Enter column size:\"))\n",
    "\n",
    "\n",
    "matrix = np.ndarray(shape=(rows,columns),dtype=int)\n",
    "print(matrix)"
   ]
  },
  {
   "cell_type": "code",
   "execution_count": 7,
   "metadata": {},
   "outputs": [
    {
     "name": "stdout",
     "output_type": "stream",
     "text": [
      "Size of the matrix: 12\n",
      "Shape of matrix: (4, 3)\n",
      "Dimesions of matrix: 2\n",
      "Datatype of the matrix: int32\n"
     ]
    }
   ],
   "source": [
    "print(\"Size of the matrix:\",matrix.size)\n",
    "print(\"Shape of matrix:\",matrix.shape)\n",
    "print(\"Dimesions of matrix:\",matrix.ndim)\n",
    "print(\"Datatype of the matrix:\",matrix.dtype)\n"
   ]
  },
  {
   "cell_type": "code",
   "execution_count": 8,
   "metadata": {},
   "outputs": [
    {
     "name": "stdout",
     "output_type": "stream",
     "text": [
      "0 0 0 \n",
      "0 0 0 \n",
      "0 0 0 \n",
      "0 0 0 \n"
     ]
    }
   ],
   "source": [
    "for row in matrix:\n",
    "    for ele in row:\n",
    "        print(ele, end=\" \")\n",
    "    print()"
   ]
  },
  {
   "cell_type": "code",
   "execution_count": 9,
   "metadata": {},
   "outputs": [
    {
     "name": "stdout",
     "output_type": "stream",
     "text": [
      "[4128860 6029375 3801155 3014748 6750312]\n",
      "Enter elements for array:14\n",
      "Enter elements for array:15\n",
      "Enter elements for array:16\n",
      "Enter elements for array:17\n",
      "Enter elements for array:18\n",
      "[14 15 16 17 18]\n"
     ]
    }
   ],
   "source": [
    "arr = np.ndarray(shape=(5),dtype=int)\n",
    "print(arr)\n",
    "\n",
    "n= arr.size\n",
    "for i in range(n):\n",
    "    arr[i]=int(input(\"Enter elements for array:\"))\n",
    "print(arr)"
   ]
  },
  {
   "cell_type": "code",
   "execution_count": 11,
   "metadata": {},
   "outputs": [
    {
     "name": "stdout",
     "output_type": "stream",
     "text": [
      "Size: 5\n",
      "Shape: (5,)\n",
      "dimensions: 1\n",
      "Datatype: int32\n"
     ]
    }
   ],
   "source": [
    "print(\"Size:\",arr.size)\n",
    "print(\"Shape:\",arr.shape)\n",
    "print(\"dimensions:\",arr.ndim)\n",
    "print(\"Datatype:\",arr.dtype)"
   ]
  },
  {
   "cell_type": "code",
   "execution_count": 17,
   "metadata": {},
   "outputs": [
    {
     "name": "stdout",
     "output_type": "stream",
     "text": [
      "Enter number of rows you want:4\n",
      "enter number of columns you want:3\n",
      "[[44  0  0]\n",
      " [ 0  0  0]\n",
      " [ 0  0  0]\n",
      " [ 0  0  0]]\n",
      "44\n",
      "55\n",
      "66\n",
      "77\n",
      "88\n",
      "99\n",
      "100\n",
      "42\n",
      "56\n",
      "21\n",
      "20\n",
      "10\n",
      "[[ 44  55  66]\n",
      " [ 77  88  99]\n",
      " [100  42  56]\n",
      " [ 21  20  10]]\n"
     ]
    }
   ],
   "source": [
    "r= int(input(\"Enter number of rows you want:\"))\n",
    "c= int(input(\"enter number of columns you want:\"))\n",
    "mat = np.ndarray (shape=(r,c), dtype=int)\n",
    "print(mat)\n",
    "for i in range(r):\n",
    "\n",
    "    for j in range (c):\n",
    "        mat[i][j]= int(input())\n",
    "print(mat)"
   ]
  },
  {
   "cell_type": "code",
   "execution_count": null,
   "metadata": {},
   "outputs": [],
   "source": []
  }
 ],
 "metadata": {
  "kernelspec": {
   "display_name": "Python 3",
   "language": "python",
   "name": "python3"
  },
  "language_info": {
   "codemirror_mode": {
    "name": "ipython",
    "version": 3
   },
   "file_extension": ".py",
   "mimetype": "text/x-python",
   "name": "python",
   "nbconvert_exporter": "python",
   "pygments_lexer": "ipython3",
   "version": "3.7.6"
  }
 },
 "nbformat": 4,
 "nbformat_minor": 4
}
