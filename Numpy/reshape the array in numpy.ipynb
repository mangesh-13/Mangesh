{
 "cells": [
  {
   "cell_type": "code",
   "execution_count": 1,
   "metadata": {},
   "outputs": [],
   "source": [
    "import numpy as np"
   ]
  },
  {
   "cell_type": "code",
   "execution_count": 6,
   "metadata": {},
   "outputs": [
    {
     "name": "stdout",
     "output_type": "stream",
     "text": [
      "Array: [10 20 30 40 50 60]\n",
      "size: 6\n",
      "Shape: (6,)\n",
      "Dimensions: int32\n",
      "Dimensions: 1\n"
     ]
    }
   ],
   "source": [
    "my_list = [10,20,30,40,50,60]\n",
    "arr = np.array(my_list)\n",
    "print(\"Array:\",arr)\n",
    "print(\"size:\",arr.size)\n",
    "print(\"Shape:\",arr.shape)\n",
    "print(\"Dimensions:\",arr.dtype)\n",
    "print(\"Dimensions:\",arr.ndim)"
   ]
  },
  {
   "cell_type": "code",
   "execution_count": 7,
   "metadata": {},
   "outputs": [
    {
     "name": "stdout",
     "output_type": "stream",
     "text": [
      "[[10 20 30]\n",
      " [40 50 60]]\n",
      "Dimensions: 2\n"
     ]
    }
   ],
   "source": [
    "res = arr.reshape(2,3)\n",
    "print(res)\n",
    "print(\"Dimensions:\",res.ndim)"
   ]
  },
  {
   "cell_type": "code",
   "execution_count": 9,
   "metadata": {},
   "outputs": [
    {
     "name": "stdout",
     "output_type": "stream",
     "text": [
      "[[10 20]\n",
      " [30 40]\n",
      " [50 60]]\n",
      "Dimensions: 2\n"
     ]
    }
   ],
   "source": [
    "res = arr.reshape(3,2)\n",
    "print(res)\n",
    "print(\"Dimensions:\",res.ndim)"
   ]
  },
  {
   "cell_type": "code",
   "execution_count": 10,
   "metadata": {},
   "outputs": [
    {
     "name": "stdout",
     "output_type": "stream",
     "text": [
      "Matrix: [10 20 30 40 50 60 70 80]\n",
      "size: 8\n",
      "Shape: (8,)\n",
      "Dimensions: int32\n",
      "Dimensions: 1\n"
     ]
    }
   ],
   "source": [
    "my_list = [10,20,30,40,50,60,70,80]\n",
    "matrix = np.array(my_list)\n",
    "print(\"Matrix:\",matrix)\n",
    "print(\"size:\",matrix.size)\n",
    "print(\"Shape:\",matrix.shape)\n",
    "print(\"Dimensions:\",matrix.dtype)\n",
    "print(\"Dimensions:\",matrix.ndim)"
   ]
  },
  {
   "cell_type": "code",
   "execution_count": 12,
   "metadata": {},
   "outputs": [
    {
     "name": "stdout",
     "output_type": "stream",
     "text": [
      "[[[10 20]\n",
      "  [30 40]]\n",
      "\n",
      " [[50 60]\n",
      "  [70 80]]]\n",
      "Dimesions: 3\n"
     ]
    }
   ],
   "source": [
    "res = matrix.reshape(2,2,2)\n",
    "print(res)\n",
    "print(\"Dimesions:\",res.ndim)"
   ]
  },
  {
   "cell_type": "code",
   "execution_count": null,
   "metadata": {},
   "outputs": [],
   "source": []
  }
 ],
 "metadata": {
  "kernelspec": {
   "display_name": "Python 3",
   "language": "python",
   "name": "python3"
  },
  "language_info": {
   "codemirror_mode": {
    "name": "ipython",
    "version": 3
   },
   "file_extension": ".py",
   "mimetype": "text/x-python",
   "name": "python",
   "nbconvert_exporter": "python",
   "pygments_lexer": "ipython3",
   "version": "3.7.6"
  }
 },
 "nbformat": 4,
 "nbformat_minor": 4
}
