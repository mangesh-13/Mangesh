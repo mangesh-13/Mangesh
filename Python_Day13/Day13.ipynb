{
 "cells": [
  {
   "cell_type": "markdown",
   "metadata": {},
   "source": [
    "# 1.\tWrite a Pandas program to create and display a one-dimensional array-like object containing an array of data.\n"
   ]
  },
  {
   "cell_type": "code",
   "execution_count": 1,
   "metadata": {},
   "outputs": [
    {
     "name": "stdout",
     "output_type": "stream",
     "text": [
      "0    10\n",
      "1    20\n",
      "2    30\n",
      "3    40\n",
      "4    50\n",
      "5    60\n",
      "dtype: int64\n"
     ]
    }
   ],
   "source": [
    "import pandas as pd\n",
    "my_list = [10,20,30,40,50,60]\n",
    "series=pd.Series(my_list)\n",
    "print(series)"
   ]
  },
  {
   "cell_type": "markdown",
   "metadata": {},
   "source": [
    "# 4.\tWrite a Pandas program to compare the elements of the two Pandas Series."
   ]
  },
  {
   "cell_type": "code",
   "execution_count": 3,
   "metadata": {},
   "outputs": [
    {
     "name": "stdout",
     "output_type": "stream",
     "text": [
      "=====Series1======\n",
      "0    10\n",
      "1    20\n",
      "2    30\n",
      "3    40\n",
      "4    50\n",
      "5    60\n",
      "dtype: int64\n",
      "=====Series2======\n",
      "0    10\n",
      "1    30\n",
      "2    45\n",
      "3    12\n",
      "4    78\n",
      "5    60\n",
      "dtype: int64\n",
      "====Equal=========\n",
      "0     True\n",
      "1    False\n",
      "2    False\n",
      "3    False\n",
      "4    False\n",
      "5     True\n",
      "dtype: bool\n",
      "====Less than=========\n",
      "0    False\n",
      "1     True\n",
      "2     True\n",
      "3    False\n",
      "4     True\n",
      "5    False\n",
      "dtype: bool\n",
      "====Less than equal to =========\n",
      "0     True\n",
      "1     True\n",
      "2     True\n",
      "3    False\n",
      "4     True\n",
      "5     True\n",
      "dtype: bool\n",
      "====greater than=========\n",
      "0    False\n",
      "1    False\n",
      "2    False\n",
      "3     True\n",
      "4    False\n",
      "5    False\n",
      "dtype: bool\n",
      "====greater than equal to=========\n",
      "0     True\n",
      "1    False\n",
      "2    False\n",
      "3     True\n",
      "4    False\n",
      "5     True\n",
      "dtype: bool\n"
     ]
    }
   ],
   "source": [
    "series1 = pd.Series([10,20,30,40,50,60])\n",
    "series2 = pd.Series([10,30,45,12,78,60])\n",
    "print(\"=====Series1======\")\n",
    "print(series1)\n",
    "print(\"=====Series2======\")\n",
    "print(series2)\n",
    "\n",
    "print(\"====Equal=========\")\n",
    "print(series1==series2)\n",
    "\n",
    "print(\"====Less than=========\")\n",
    "print(series1 < series2)\n",
    "\n",
    "print(\"====Less than equal to =========\")\n",
    "print(series1 <= series2)\n",
    "\n",
    "print(\"====greater than=========\")\n",
    "print(series1 > series2)\n",
    "\n",
    "print(\"====greater than equal to=========\")\n",
    "print(series1 >= series2)"
   ]
  },
  {
   "cell_type": "markdown",
   "metadata": {},
   "source": [
    "# 5.\tWrite a Pandas program to convert a dictionary to a Pandas series.Sample dictionary: d1 = {'a': 100, 'b': 200, 'c':300, 'd':400, 'e':800}"
   ]
  },
  {
   "cell_type": "code",
   "execution_count": 5,
   "metadata": {},
   "outputs": [
    {
     "name": "stdout",
     "output_type": "stream",
     "text": [
      "a    100\n",
      "b    200\n",
      "c    300\n",
      "d    400\n",
      "e    800\n",
      "dtype: int64\n"
     ]
    }
   ],
   "source": [
    "d1 = {'a': 100, 'b': 200, 'c':300, 'd':400, 'e':800}\n",
    "series = pd.Series(d1)\n",
    "print(series)"
   ]
  },
  {
   "cell_type": "markdown",
   "metadata": {},
   "source": [
    "# 6.\tWrite a Pandas program to convert a NumPy array to a Pandas series."
   ]
  },
  {
   "cell_type": "code",
   "execution_count": 6,
   "metadata": {},
   "outputs": [
    {
     "name": "stdout",
     "output_type": "stream",
     "text": [
      "0    10\n",
      "1    20\n",
      "2    30\n",
      "3    40\n",
      "4    50\n",
      "dtype: int32\n"
     ]
    }
   ],
   "source": [
    "import pandas as pd\n",
    "import numpy as np\n",
    "\n",
    "arr = np.array ([10,20,30,40,50])\n",
    "series = pd.Series(arr)\n",
    "print(series)\n"
   ]
  },
  {
   "cell_type": "markdown",
   "metadata": {},
   "source": [
    "# 7.\tWrite a Pandas program to change the data type of given a column or a Series."
   ]
  },
  {
   "cell_type": "markdown",
   "metadata": {},
   "source": [
    "## Method #1: Using DataFrame.astype()"
   ]
  },
  {
   "cell_type": "code",
   "execution_count": 8,
   "metadata": {},
   "outputs": [
    {
     "name": "stdout",
     "output_type": "stream",
     "text": [
      "      Name  Age\n",
      "0  Mangesh   40\n",
      "1   Mukund   55\n",
      "2    Sagar   60\n",
      "3   Nikhil   80\n",
      "4    Rahul   22\n",
      "Name    object\n",
      "Age      int64\n",
      "dtype: object\n",
      "Name    object\n",
      "Age     object\n",
      "dtype: object\n"
     ]
    }
   ],
   "source": [
    "Dict = {\n",
    "        \"Name\":[\"Mangesh\",\"Mukund\",\"Sagar\",\"Nikhil\",\"Rahul\"],\n",
    "        \"Age\" :[ 40,55,60,80,22]\n",
    "       }\n",
    "\n",
    "df = pd.DataFrame(Dict)\n",
    "print(df)\n",
    "print(df.dtypes)\n",
    "\n",
    "#change datatype of dataframe\n",
    "df = df.astype(str)\n",
    "print(df.dtypes)\n"
   ]
  },
  {
   "cell_type": "code",
   "execution_count": 14,
   "metadata": {},
   "outputs": [
    {
     "name": "stdout",
     "output_type": "stream",
     "text": [
      "Name    object\n",
      "Age      int64\n",
      "City    object\n",
      "dtype: object\n",
      "Name     object\n",
      "Age     float64\n",
      "City     object\n",
      "dtype: object\n"
     ]
    },
    {
     "data": {
      "text/html": [
       "<div>\n",
       "<style scoped>\n",
       "    .dataframe tbody tr th:only-of-type {\n",
       "        vertical-align: middle;\n",
       "    }\n",
       "\n",
       "    .dataframe tbody tr th {\n",
       "        vertical-align: top;\n",
       "    }\n",
       "\n",
       "    .dataframe thead th {\n",
       "        text-align: right;\n",
       "    }\n",
       "</style>\n",
       "<table border=\"1\" class=\"dataframe\">\n",
       "  <thead>\n",
       "    <tr style=\"text-align: right;\">\n",
       "      <th></th>\n",
       "      <th>Name</th>\n",
       "      <th>Age</th>\n",
       "      <th>City</th>\n",
       "    </tr>\n",
       "  </thead>\n",
       "  <tbody>\n",
       "    <tr>\n",
       "      <th>0</th>\n",
       "      <td>Anil</td>\n",
       "      <td>50.0</td>\n",
       "      <td>Pune</td>\n",
       "    </tr>\n",
       "    <tr>\n",
       "      <th>1</th>\n",
       "      <td>Suresh</td>\n",
       "      <td>40.0</td>\n",
       "      <td>Mumbai</td>\n",
       "    </tr>\n",
       "    <tr>\n",
       "      <th>2</th>\n",
       "      <td>Vinayak</td>\n",
       "      <td>42.0</td>\n",
       "      <td>Nagar</td>\n",
       "    </tr>\n",
       "    <tr>\n",
       "      <th>3</th>\n",
       "      <td>Ram</td>\n",
       "      <td>32.0</td>\n",
       "      <td>Nashik</td>\n",
       "    </tr>\n",
       "    <tr>\n",
       "      <th>4</th>\n",
       "      <td>Shyam</td>\n",
       "      <td>22.0</td>\n",
       "      <td>Nagpur</td>\n",
       "    </tr>\n",
       "  </tbody>\n",
       "</table>\n",
       "</div>"
      ],
      "text/plain": [
       "      Name   Age    City\n",
       "0     Anil  50.0    Pune\n",
       "1   Suresh  40.0  Mumbai\n",
       "2  Vinayak  42.0   Nagar\n",
       "3      Ram  32.0  Nashik\n",
       "4    Shyam  22.0  Nagpur"
      ]
     },
     "execution_count": 14,
     "metadata": {},
     "output_type": "execute_result"
    }
   ],
   "source": [
    "# To change the datatype of specific column\n",
    "\n",
    "Dict = {\n",
    "    'Name':['Anil','Suresh','Vinayak','Ram','Shyam'],\n",
    "    'Age' : [50,40,42,32,22],\n",
    "    'City':['Pune','Mumbai','Nagar','Nashik','Nagpur']\n",
    "}\n",
    "df = pd.DataFrame(Dict)\n",
    "\n",
    "\n",
    "\n",
    "print(df.dtypes)\n",
    "\n",
    "change_types = {\n",
    "                 \n",
    "                 \"Age\":float\n",
    "               }\n",
    "\n",
    "\n",
    "df = df.astype(change_types)\n",
    "print(df.dtypes)\n",
    "df"
   ]
  },
  {
   "cell_type": "markdown",
   "metadata": {},
   "source": [
    "## Method #2: Using DataFrame.apply()"
   ]
  },
  {
   "cell_type": "code",
   "execution_count": 16,
   "metadata": {},
   "outputs": [
    {
     "name": "stdout",
     "output_type": "stream",
     "text": [
      "A    object\n",
      "B    object\n",
      "C    object\n",
      "dtype: object\n",
      "A      int64\n",
      "B     object\n",
      "C    float64\n",
      "dtype: object\n"
     ]
    }
   ],
   "source": [
    "Dict ={\n",
    "    'A': [1, 2, 3, '4', '5'], \n",
    "    'B': ['a', 'b', 'c', 'd', 'e'], \n",
    "    'C': [1.1, '2.1', 3.0, '4.1', '5.1'] \n",
    "        }\n",
    "df = pd.DataFrame(Dict)\n",
    "print(df.dtypes)\n",
    "\n",
    "df[['A', 'C']] = df[['A', 'C']].apply(pd.to_numeric) \n",
    "print(df.dtypes)"
   ]
  },
  {
   "cell_type": "markdown",
   "metadata": {},
   "source": [
    "# 8.\tWrite a Python Pandas program to convert the first column of a DataFrame as a Series.\n",
    "## d = {'col1': [1, 2, 3, 4, 7, 11], 'col2': [4, 5, 6, 9, 5, 0], 'col3': [7, 5, 8, 12, 1,11]}\n"
   ]
  },
  {
   "cell_type": "code",
   "execution_count": 17,
   "metadata": {},
   "outputs": [
    {
     "data": {
      "text/html": [
       "<div>\n",
       "<style scoped>\n",
       "    .dataframe tbody tr th:only-of-type {\n",
       "        vertical-align: middle;\n",
       "    }\n",
       "\n",
       "    .dataframe tbody tr th {\n",
       "        vertical-align: top;\n",
       "    }\n",
       "\n",
       "    .dataframe thead th {\n",
       "        text-align: right;\n",
       "    }\n",
       "</style>\n",
       "<table border=\"1\" class=\"dataframe\">\n",
       "  <thead>\n",
       "    <tr style=\"text-align: right;\">\n",
       "      <th></th>\n",
       "      <th>col1</th>\n",
       "      <th>col2</th>\n",
       "      <th>col3</th>\n",
       "    </tr>\n",
       "  </thead>\n",
       "  <tbody>\n",
       "    <tr>\n",
       "      <th>0</th>\n",
       "      <td>1</td>\n",
       "      <td>4</td>\n",
       "      <td>7</td>\n",
       "    </tr>\n",
       "    <tr>\n",
       "      <th>1</th>\n",
       "      <td>2</td>\n",
       "      <td>5</td>\n",
       "      <td>5</td>\n",
       "    </tr>\n",
       "    <tr>\n",
       "      <th>2</th>\n",
       "      <td>3</td>\n",
       "      <td>6</td>\n",
       "      <td>8</td>\n",
       "    </tr>\n",
       "    <tr>\n",
       "      <th>3</th>\n",
       "      <td>4</td>\n",
       "      <td>9</td>\n",
       "      <td>12</td>\n",
       "    </tr>\n",
       "    <tr>\n",
       "      <th>4</th>\n",
       "      <td>7</td>\n",
       "      <td>5</td>\n",
       "      <td>1</td>\n",
       "    </tr>\n",
       "    <tr>\n",
       "      <th>5</th>\n",
       "      <td>11</td>\n",
       "      <td>0</td>\n",
       "      <td>11</td>\n",
       "    </tr>\n",
       "  </tbody>\n",
       "</table>\n",
       "</div>"
      ],
      "text/plain": [
       "   col1  col2  col3\n",
       "0     1     4     7\n",
       "1     2     5     5\n",
       "2     3     6     8\n",
       "3     4     9    12\n",
       "4     7     5     1\n",
       "5    11     0    11"
      ]
     },
     "execution_count": 17,
     "metadata": {},
     "output_type": "execute_result"
    }
   ],
   "source": [
    "d = {\n",
    "    'col1': [1, 2, 3, 4, 7, 11], \n",
    "    'col2': [4, 5, 6, 9, 5, 0], \n",
    "    'col3': [7, 5, 8, 12, 1,11]}\n",
    "df = pd.DataFrame(d)\n",
    "df"
   ]
  },
  {
   "cell_type": "code",
   "execution_count": 21,
   "metadata": {},
   "outputs": [
    {
     "name": "stdout",
     "output_type": "stream",
     "text": [
      "0     1\n",
      "1     2\n",
      "2     3\n",
      "3     4\n",
      "4     7\n",
      "5    11\n",
      "Name: col1, dtype: int64\n"
     ]
    }
   ],
   "source": [
    "series = df['col1']\n",
    "print(series)"
   ]
  },
  {
   "cell_type": "code",
   "execution_count": 24,
   "metadata": {},
   "outputs": [
    {
     "name": "stdout",
     "output_type": "stream",
     "text": [
      "<class 'pandas.core.series.Series'>\n"
     ]
    }
   ],
   "source": [
    "print(type(series))"
   ]
  },
  {
   "cell_type": "markdown",
   "metadata": {},
   "source": [
    "# 9.\tWrite a Pandas program to convert a given Series to an array."
   ]
  },
  {
   "cell_type": "code",
   "execution_count": 28,
   "metadata": {},
   "outputs": [
    {
     "name": "stdout",
     "output_type": "stream",
     "text": [
      "0         10\n",
      "1          2\n",
      "2         30\n",
      "3         40\n",
      "4         50\n",
      "5         60\n",
      "6    Mangesh\n",
      "7      100.2\n",
      "dtype: object\n",
      "==============Series to an array===================\n",
      "['10' '2' '30' '40' '50' '60' 'Mangesh' '100.2']\n"
     ]
    },
    {
     "data": {
      "text/plain": [
       "numpy.ndarray"
      ]
     },
     "execution_count": 28,
     "metadata": {},
     "output_type": "execute_result"
    }
   ],
   "source": [
    "series = pd.Series([10,2,30,40,50,60,'Mangesh',100.20])\n",
    "print(series)\n",
    "print(\"==============Series to an array===================\")\n",
    "arr = np.array(series.values.tolist())\n",
    "print(arr)  \n",
    "type(arr)"
   ]
  },
  {
   "cell_type": "markdown",
   "metadata": {},
   "source": [
    "# 10.\tWrite a Pandas program to sort a given Series.\n",
    "(['100', '200', 'python', '300.12', '400'])\n"
   ]
  },
  {
   "cell_type": "code",
   "execution_count": 29,
   "metadata": {},
   "outputs": [
    {
     "name": "stdout",
     "output_type": "stream",
     "text": [
      "0       100\n",
      "1       200\n",
      "2    python\n",
      "3    300.12\n",
      "4       400\n",
      "dtype: object\n",
      "============Sorted Series============\n",
      "0       100\n",
      "1       200\n",
      "3    300.12\n",
      "4       400\n",
      "2    python\n",
      "dtype: object\n"
     ]
    }
   ],
   "source": [
    "series = pd.Series(['100', '200', 'python', '300.12', '400'])\n",
    "print(series)\n",
    "print(\"============Sorted Series============\")\n",
    "sorted_series = series.sort_values(ascending=True)\n",
    "print(sorted_series)"
   ]
  },
  {
   "cell_type": "code",
   "execution_count": null,
   "metadata": {},
   "outputs": [],
   "source": []
  }
 ],
 "metadata": {
  "kernelspec": {
   "display_name": "Python 3",
   "language": "python",
   "name": "python3"
  },
  "language_info": {
   "codemirror_mode": {
    "name": "ipython",
    "version": 3
   },
   "file_extension": ".py",
   "mimetype": "text/x-python",
   "name": "python",
   "nbconvert_exporter": "python",
   "pygments_lexer": "ipython3",
   "version": "3.7.6"
  }
 },
 "nbformat": 4,
 "nbformat_minor": 4
}
