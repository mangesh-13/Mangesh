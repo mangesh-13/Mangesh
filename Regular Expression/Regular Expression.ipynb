{
 "cells": [
  {
   "cell_type": "markdown",
   "metadata": {},
   "source": [
    "# Regular Expressions:\n",
    "#### If we want to represent group of string according to perticular pattern then we should go for regular expression concept.\n",
    "#### To implement validation framework.\n",
    "#### To develop pattern matching applications.\n",
    "####  To develop translators like compilers, interpreters."
   ]
  },
  {
   "cell_type": "code",
   "execution_count": 5,
   "metadata": {},
   "outputs": [
    {
     "name": "stdout",
     "output_type": "stream",
     "text": [
      "Match is found at start index: 1\n",
      "Match is found at start index: 7\n",
      "Match is found at start index: 12\n",
      "Match is found at start index: 15\n",
      "The number of ocuurances of 'ab'(Count): 4\n"
     ]
    }
   ],
   "source": [
    "import re\n",
    "pattern = re.compile('ab')\n",
    "matcher = pattern.finditer('babbbbaabaaaabaab')\n",
    "count=0\n",
    "for i in matcher:\n",
    "    count+=1\n",
    "    print(\"Match is found at start index:\",i.start())\n",
    "print(\"The number of ocuurances of 'ab'(Count):\",count)   "
   ]
  },
  {
   "cell_type": "markdown",
   "metadata": {},
   "source": []
  },
  {
   "cell_type": "code",
   "execution_count": 10,
   "metadata": {},
   "outputs": [
    {
     "name": "stdout",
     "output_type": "stream",
     "text": [
      "start:1 end:3 group:ab\n",
      "start:5 end:7 group:ab\n",
      "start:7 end:9 group:ab\n",
      "start:11 end:13 group:ab\n",
      "Count: 4\n"
     ]
    }
   ],
   "source": [
    "import re\n",
    "matcher = re.finditer('ab','babaaababaaab')\n",
    "                  #  pattern  target_string\n",
    "count=0\n",
    "for m in matcher:\n",
    "    count+=1\n",
    "    print(\"start:{} end:{} group:{}\".format(m.start(),m.end(),m.group()))\n",
    "print(\"Count:\",count)"
   ]
  },
  {
   "cell_type": "markdown",
   "metadata": {},
   "source": [
    "character classes :\n",
    "----------------------------\n",
    "a or b or c\n",
    "\n",
    "any alphabate symbol\n",
    "\n",
    "any digit\n",
    "\n",
    "[abc] ===> either a or b or c\n",
    "\n",
    "[^abc] ====>Except a and b and c\n",
    "\n",
    "[a-z] ====> Any lower case alphabate symbols\n",
    "\n",
    "[A-Z] ====> Any upper case alphabate symbols\n",
    "\n",
    "[a-zA-Z] ====> Any alphabate symbol\n",
    "\n",
    "[0-9] =====> Any digit\n",
    "\n",
    "[a-zA-Z0-9] ====> any alphanumeric character\n",
    "\n",
    "[^a-zA-Z0-9] ====> other than alphanumeric character\n",
    "\n",
    "\n"
   ]
  },
  {
   "cell_type": "code",
   "execution_count": 5,
   "metadata": {},
   "outputs": [
    {
     "name": "stdout",
     "output_type": "stream",
     "text": [
      "0 ------- a\n",
      "2 ------- b\n"
     ]
    }
   ],
   "source": [
    "import re\n",
    "matcher = re.finditer('[abc]','a7b@k9z') # a or b or c\n",
    "for m in matcher:\n",
    "    print(m.start(),'-------',m.group()) # group() return current matching item\n",
    "\n"
   ]
  },
  {
   "cell_type": "code",
   "execution_count": 4,
   "metadata": {},
   "outputs": [
    {
     "name": "stdout",
     "output_type": "stream",
     "text": [
      "1 ------- 7\n",
      "3 ------- @\n",
      "4 ------- k\n",
      "5 ------- 9\n",
      "6 ------- z\n"
     ]
    }
   ],
   "source": [
    "import re\n",
    "matcher = re.finditer('[^abc]','a7b@k9z')# except a or b or c\n",
    "for m in matcher:\n",
    "    print(m.start(),'-------',m.group())"
   ]
  },
  {
   "cell_type": "code",
   "execution_count": 6,
   "metadata": {},
   "outputs": [
    {
     "name": "stdout",
     "output_type": "stream",
     "text": [
      "0 ------- a\n",
      "2 ------- b\n",
      "4 ------- k\n",
      "6 ------- z\n"
     ]
    }
   ],
   "source": [
    "import re\n",
    "matcher = re.finditer('[a-z]','a7b@k9z')\n",
    "for m in matcher:\n",
    "    print(m.start(),'-------',m.group())"
   ]
  },
  {
   "cell_type": "code",
   "execution_count": 7,
   "metadata": {},
   "outputs": [
    {
     "name": "stdout",
     "output_type": "stream",
     "text": [
      "1 ------- 7\n",
      "5 ------- 9\n"
     ]
    }
   ],
   "source": [
    "import re\n",
    "matcher = re.finditer('[0-9]','a7b@k9z')\n",
    "for m in matcher:\n",
    "    print(m.start(),'-------',m.group())"
   ]
  },
  {
   "cell_type": "code",
   "execution_count": 8,
   "metadata": {},
   "outputs": [
    {
     "name": "stdout",
     "output_type": "stream",
     "text": [
      "0 ---------- a\n",
      "1 ---------- 7\n",
      "2 ---------- b\n",
      "4 ---------- k\n",
      "5 ---------- 9\n",
      "6 ---------- z\n"
     ]
    }
   ],
   "source": [
    "import re\n",
    "matcher = re.finditer('[a-zA-Z0-9]','a7b@k9z')\n",
    "for m in matcher:\n",
    "     print(m.start(),'----------',m.group())"
   ]
  },
  {
   "cell_type": "code",
   "execution_count": 9,
   "metadata": {},
   "outputs": [
    {
     "name": "stdout",
     "output_type": "stream",
     "text": [
      "3 ---------- @\n"
     ]
    }
   ],
   "source": [
    "import re\n",
    "matcher = re.finditer('[^a-zA-Z0-9]','a7b@k9z')\n",
    "for m in matcher:\n",
    "     print(m.start(),'----------',m.group())"
   ]
  },
  {
   "cell_type": "markdown",
   "metadata": {},
   "source": [
    "# Predefined character classes"
   ]
  },
  {
   "cell_type": "markdown",
   "metadata": {},
   "source": [
    "\\s ---> space character\n",
    "\n",
    "\\S -----> except space character\n",
    "\n",
    "\\d ----> any digit\n",
    "\n",
    "\\D -----> except digit\n",
    "\n",
    "\\w ------> any word character(alpha numeric character) [a-zA-Z0-9]\n",
    "\n",
    "\\W ---> Any character except word(special characters)  [^a-zA-Z0-9]\n",
    "\n",
    ". ------> Every character\n"
   ]
  },
  {
   "cell_type": "code",
   "execution_count": 12,
   "metadata": {},
   "outputs": [
    {
     "name": "stdout",
     "output_type": "stream",
     "text": [
      "3 --------  \n"
     ]
    }
   ],
   "source": [
    "import re\n",
    "matcher = re.finditer('\\s','a7b @k9z') # \\s space character\n",
    "for m in matcher:\n",
    "    print(m.start(),'--------',m.group())"
   ]
  },
  {
   "cell_type": "code",
   "execution_count": 13,
   "metadata": {},
   "outputs": [
    {
     "name": "stdout",
     "output_type": "stream",
     "text": [
      "0 -------- a\n",
      "1 -------- 7\n",
      "2 -------- b\n",
      "4 -------- @\n",
      "5 -------- k\n",
      "6 -------- 9\n",
      "7 -------- z\n"
     ]
    }
   ],
   "source": [
    "import re\n",
    "matcher = re.finditer('\\S','a7b @k9z') # except space character\n",
    "for m in matcher:\n",
    "    print(m.start(),'--------',m.group())"
   ]
  },
  {
   "cell_type": "code",
   "execution_count": 19,
   "metadata": {},
   "outputs": [
    {
     "name": "stdout",
     "output_type": "stream",
     "text": [
      "0 --------- a\n",
      "1 --------- 7\n",
      "2 --------- b\n",
      "5 --------- k\n",
      "6 --------- 9\n",
      "7 --------- z\n"
     ]
    }
   ],
   "source": [
    "import re\n",
    "matcher = re.finditer('\\w','a7b @k9z')#alpha-numeric characters\n",
    "for m in matcher:\n",
    "    print(m.start(),'---------',m.group())"
   ]
  },
  {
   "cell_type": "code",
   "execution_count": 21,
   "metadata": {},
   "outputs": [
    {
     "name": "stdout",
     "output_type": "stream",
     "text": [
      "3 ---------  \n",
      "4 --------- @\n"
     ]
    }
   ],
   "source": [
    "import re\n",
    "matcher = re.finditer('\\W','a7b @k9z')#Except alphan-umeric character\n",
    "for m in matcher:\n",
    "    print(m.start(),'---------',m.group())"
   ]
  },
  {
   "cell_type": "code",
   "execution_count": 24,
   "metadata": {},
   "outputs": [
    {
     "name": "stdout",
     "output_type": "stream",
     "text": [
      "0 -------- a\n",
      "1 -------- 7\n",
      "2 -------- b\n",
      "3 --------  \n",
      "4 -------- @\n",
      "5 -------- k\n",
      "6 -------- 9\n",
      "7 -------- z\n"
     ]
    }
   ],
   "source": [
    "import re\n",
    "matcher = re.finditer('.','a7b @k9z') # every character\n",
    "for m in matcher:\n",
    "    print(m.start(),'--------',m.group())"
   ]
  },
  {
   "cell_type": "code",
   "execution_count": 25,
   "metadata": {},
   "outputs": [
    {
     "name": "stdout",
     "output_type": "stream",
     "text": [
      "1 -------- 7\n",
      "6 -------- 9\n"
     ]
    }
   ],
   "source": [
    "import re\n",
    "matcher = re.finditer('\\d','a7b @k9z') # any digit\n",
    "for m in matcher:\n",
    "    print(m.start(),'--------',m.group())"
   ]
  },
  {
   "cell_type": "code",
   "execution_count": 26,
   "metadata": {},
   "outputs": [
    {
     "name": "stdout",
     "output_type": "stream",
     "text": [
      "0 -------- a\n",
      "2 -------- b\n",
      "3 --------  \n",
      "4 -------- @\n",
      "5 -------- k\n",
      "7 -------- z\n"
     ]
    }
   ],
   "source": [
    "import re\n",
    "matcher = re.finditer('\\D','a7b @k9z') # except digits\n",
    "for m in matcher:\n",
    "    print(m.start(),'--------',m.group())"
   ]
  },
  {
   "cell_type": "markdown",
   "metadata": {},
   "source": [
    "# Quantifiers:\n",
    "### Quantifiers can be used to specify the number of occurances to match"
   ]
  },
  {
   "cell_type": "markdown",
   "metadata": {},
   "source": [
    "#### a ----> exectly one 'a'\n",
    "\n",
    "#### a+ ----> atleast one 'a'\n",
    "\n",
    "#### a* -----> any number of a's including zero number also\n",
    "\n",
    "#### a? ------> atmost one a (meaning either one a or zero number of a's)\n",
    "\n",
    "#### a{n} -------> Exactly n number of a's\n",
    "\n",
    "#### a{m,n} ------> Minimum m number of a's and maximum n number of a's\n",
    "\n",
    "#### [^a] -------> Except 'a' all the remaining\n",
    "\n",
    "#### ^a ------> It will check whether the given target string starts with 'a' or not\n",
    "\n",
    "#### a$ ----> It will check whether the given target string ends with 'a' or not"
   ]
  },
  {
   "cell_type": "code",
   "execution_count": 1,
   "metadata": {},
   "outputs": [
    {
     "name": "stdout",
     "output_type": "stream",
     "text": [
      "0 -------- a\n",
      "2 -------- a\n",
      "3 -------- a\n",
      "5 -------- a\n",
      "6 -------- a\n",
      "7 -------- a\n"
     ]
    }
   ],
   "source": [
    "# exactly one 'a'\n",
    "\n",
    "import re\n",
    "matcher = re.finditer('a','abaabaaab')\n",
    "for m in matcher:\n",
    "    print(m.start(),'--------',m.group())"
   ]
  },
  {
   "cell_type": "code",
   "execution_count": 2,
   "metadata": {},
   "outputs": [
    {
     "name": "stdout",
     "output_type": "stream",
     "text": [
      "0 ------- a\n",
      "2 ------- aa\n",
      "5 ------- aaa\n"
     ]
    }
   ],
   "source": [
    "# atleast one 'a'\n",
    "import re\n",
    "matcher = re.finditer('a+','abaabaaab')\n",
    "for m in matcher:\n",
    "    print(m.start(),'-------',m.group())"
   ]
  },
  {
   "cell_type": "code",
   "execution_count": 3,
   "metadata": {},
   "outputs": [
    {
     "name": "stdout",
     "output_type": "stream",
     "text": [
      "0 ------- a\n",
      "1 ------- \n",
      "2 ------- aa\n",
      "4 ------- \n",
      "5 ------- aaa\n",
      "8 ------- \n",
      "9 ------- \n"
     ]
    }
   ],
   "source": [
    "# a* -----> any number of a's including zero number also\n",
    "\n",
    "import re\n",
    "matcher = re.finditer('a*','abaabaaab')\n",
    "for m in matcher:\n",
    "    print(m.start(),'-------',m.group())"
   ]
  },
  {
   "cell_type": "code",
   "execution_count": 4,
   "metadata": {},
   "outputs": [
    {
     "name": "stdout",
     "output_type": "stream",
     "text": [
      "0 ------- a\n",
      "1 ------- \n",
      "2 ------- a\n",
      "3 ------- a\n",
      "4 ------- \n",
      "5 ------- a\n",
      "6 ------- a\n",
      "7 ------- a\n",
      "8 ------- \n",
      "9 ------- \n"
     ]
    }
   ],
   "source": [
    "# a? ------> atmost one a (meaning either one a or zero number of a's)\n",
    "\n",
    "import re\n",
    "matcher = re.finditer('a?','abaabaaab')\n",
    "for m in matcher:\n",
    "    print(m.start(),'-------',m.group())\n"
   ]
  },
  {
   "cell_type": "code",
   "execution_count": 5,
   "metadata": {},
   "outputs": [
    {
     "name": "stdout",
     "output_type": "stream",
     "text": [
      "5 ------- aaa\n"
     ]
    }
   ],
   "source": [
    "# a{n} -------> Exactly n number of a's\n",
    "\n",
    "\n",
    "import re\n",
    "matcher = re.finditer('a{3}','abaabaaab')\n",
    "for m in matcher:\n",
    "    print(m.start(),'-------',m.group())\n"
   ]
  },
  {
   "cell_type": "code",
   "execution_count": 7,
   "metadata": {},
   "outputs": [
    {
     "name": "stdout",
     "output_type": "stream",
     "text": [
      "2 ---------- aa\n",
      "5 ---------- aaa\n"
     ]
    }
   ],
   "source": [
    "# a{m,n} ------> Minimum m number of a's and maximum n number of a's\n",
    "\n",
    "import re\n",
    "matcher = re.finditer('a{2,3}','abaabaaab')\n",
    "for m in matcher:\n",
    "    print(m.start(),'----------',m.group())\n"
   ]
  },
  {
   "cell_type": "code",
   "execution_count": 9,
   "metadata": {},
   "outputs": [
    {
     "name": "stdout",
     "output_type": "stream",
     "text": [
      "0 -------- a\n",
      "2 -------- a\n",
      "3 -------- a\n",
      "5 -------- a\n",
      "6 -------- a\n",
      "7 -------- a\n"
     ]
    }
   ],
   "source": [
    "import re\n",
    "matcher = re.finditer('a{1}','abaabaaab')\n",
    "for m in matcher:\n",
    "    print(m.start(),'--------',m.group())"
   ]
  },
  {
   "cell_type": "code",
   "execution_count": 10,
   "metadata": {},
   "outputs": [
    {
     "name": "stdout",
     "output_type": "stream",
     "text": [
      "0 --------- a\n",
      "2 --------- aa\n",
      "5 --------- aaa\n"
     ]
    }
   ],
   "source": [
    "import re\n",
    "matcher = re.finditer('a{1,3}','abaabaaab')\n",
    "for m in matcher:\n",
    "    print(m.start(),'---------',m.group())"
   ]
  },
  {
   "cell_type": "code",
   "execution_count": 11,
   "metadata": {},
   "outputs": [
    {
     "name": "stdout",
     "output_type": "stream",
     "text": [
      "1 --------- b\n",
      "4 --------- b\n",
      "8 --------- b\n"
     ]
    }
   ],
   "source": [
    " # [^a] -------> Except 'a' all the remaining\n",
    "\n",
    "    \n",
    "import re\n",
    "matcher = re.finditer('[^a]','abaabaaab')\n",
    "for m in matcher:\n",
    "    print(m.start(),'---------',m.group())"
   ]
  },
  {
   "cell_type": "code",
   "execution_count": 13,
   "metadata": {},
   "outputs": [
    {
     "name": "stdout",
     "output_type": "stream",
     "text": [
      "0 --------- a\n"
     ]
    }
   ],
   "source": [
    "# ^a ------> \n",
    "# It will check whether the given target string starts with 'a' or not\n",
    "\n",
    "import re\n",
    "matcher = re.finditer('^a','abaabaaab')\n",
    "for m in matcher:\n",
    "    print(m.start(),'---------',m.group())"
   ]
  },
  {
   "cell_type": "code",
   "execution_count": 19,
   "metadata": {},
   "outputs": [],
   "source": [
    "# a$ ----> \n",
    "# It will check whether the given target string ends with 'a' or not\n",
    "# if it not ends with 'a' then it will return nothing and if\n",
    "# it ends with 'a' it will return index of that match\n",
    "\n",
    "import re\n",
    "matcher = re.finditer('a$','abaabaaab')\n",
    "for m in matcher:\n",
    "    print(m.start(),'---------',m.group())"
   ]
  },
  {
   "cell_type": "markdown",
   "metadata": {},
   "source": [
    "# Important functions of re module\n",
    "\n",
    "## 1. match()\n",
    "\n",
    "## 2. fullmatch()\n",
    "\n",
    "## 3. search()\n",
    "\n",
    "## 4. findall()\n",
    "\n",
    "## 5. finditer()\n",
    "\n",
    "## 6. sub()\n",
    "\n",
    "## 7. subn()\n",
    "\n",
    "## 8. split()\n",
    "\n",
    "## 9. compile()\n",
    "\n"
   ]
  },
  {
   "cell_type": "markdown",
   "metadata": {},
   "source": [
    "# 1. match()\n",
    "#### to check the given pattern at the beginning of the target string\n",
    "#### If then returns Match object otherwise returns None."
   ]
  },
  {
   "cell_type": "code",
   "execution_count": 29,
   "metadata": {},
   "outputs": [
    {
     "name": "stdout",
     "output_type": "stream",
     "text": [
      "Enter the pattern you want to check:abc\n",
      "<re.Match object; span=(0, 3), match='abc'>\n",
      "Match is available at the beginning of the string\n",
      "Start index:0 and End Index:3\n"
     ]
    }
   ],
   "source": [
    "import re\n",
    "string = input ('Enter the pattern you want to check:')\n",
    "matcher = re.match(string,'abcdefgh')\n",
    "print(matcher)\n",
    "\n",
    "if matcher != None :\n",
    "    print(\"Match is available at the beginning of the string\")\n",
    "    print('Start index:{} and End Index:{}'.format(matcher.start(),matcher.end()))\n",
    "else:\n",
    "    print('Match is not available at the beginning of the string')"
   ]
  },
  {
   "cell_type": "markdown",
   "metadata": {},
   "source": [
    "# 2. fullmatch()\n",
    "#### Total target string should be match according to the given string."
   ]
  },
  {
   "cell_type": "code",
   "execution_count": 3,
   "metadata": {},
   "outputs": [
    {
     "name": "stdout",
     "output_type": "stream",
     "text": [
      "Enter the string you want to search:abcdefgh\n",
      "<re.Match object; span=(0, 8), match='abcdefgh'>\n",
      "Full string is matched\n"
     ]
    }
   ],
   "source": [
    "import re\n",
    "s = input(\"Enter the string you want to search:\")\n",
    "m =re.fullmatch(s,'abcdefgh')\n",
    "\n",
    "print(m) # match object\n",
    "\n",
    "if m != None:\n",
    "    print(\"Full string is matched\")\n",
    "else:\n",
    "    print(\"Full string is not matched\")"
   ]
  },
  {
   "cell_type": "markdown",
   "metadata": {},
   "source": [
    "# 3. search()\n",
    "#### Match object of the first occurance\n",
    "#### If match not found returns None.\n"
   ]
  },
  {
   "cell_type": "code",
   "execution_count": 6,
   "metadata": {},
   "outputs": [
    {
     "name": "stdout",
     "output_type": "stream",
     "text": [
      "Enter the string you want to search:aaa\n",
      "<re.Match object; span=(5, 8), match='aaa'>\n",
      "Search is available at start index:5 and end index:8\n"
     ]
    }
   ],
   "source": [
    "import re\n",
    "s = input(\"Enter the string you want to search:\")\n",
    "m = re.search(s,'abaabaaab')\n",
    "print(m)\n",
    "\n",
    "if m != None :\n",
    "    print(\"Search is available at start index:{} and end index:{}\".format(m.start(),m.end()))\n",
    "else:\n",
    "    print(\"search is not available\")"
   ]
  },
  {
   "cell_type": "markdown",
   "metadata": {},
   "source": [
    "# 4. findall()\n",
    "#### Find all the matches and return into the list"
   ]
  },
  {
   "cell_type": "code",
   "execution_count": 8,
   "metadata": {},
   "outputs": [
    {
     "name": "stdout",
     "output_type": "stream",
     "text": [
      "['7', '9', '6']\n"
     ]
    }
   ],
   "source": [
    "import re\n",
    "l = re.findall('[0-9]','a7b9k6z')\n",
    "print(l)"
   ]
  },
  {
   "cell_type": "code",
   "execution_count": 10,
   "metadata": {},
   "outputs": [
    {
     "name": "stdout",
     "output_type": "stream",
     "text": [
      "['#', ' ', '$']\n"
     ]
    }
   ],
   "source": [
    "import re\n",
    "l = re.findall('\\W','a7# sfj$9')# '\\W' except alpha-numeric characters\n",
    "print(l)"
   ]
  },
  {
   "cell_type": "code",
   "execution_count": 11,
   "metadata": {},
   "outputs": [
    {
     "name": "stdout",
     "output_type": "stream",
     "text": [
      "['7', '9']\n"
     ]
    }
   ],
   "source": [
    "import re\n",
    "l = re.findall('\\d','a7# sfj$9') # '\\d'--> all digits\n",
    "print(l)"
   ]
  },
  {
   "cell_type": "code",
   "execution_count": 13,
   "metadata": {},
   "outputs": [
    {
     "name": "stdout",
     "output_type": "stream",
     "text": [
      "['a', 's', 'f', 'j']\n"
     ]
    }
   ],
   "source": [
    "import re\n",
    "l = re.findall('[a-z]', 'a7# sfj$9')\n",
    "print(l)"
   ]
  },
  {
   "cell_type": "markdown",
   "metadata": {},
   "source": [
    "# 5. finditer():\n",
    "#### It returns iterator of matched objects."
   ]
  },
  {
   "cell_type": "code",
   "execution_count": 16,
   "metadata": {},
   "outputs": [
    {
     "name": "stdout",
     "output_type": "stream",
     "text": [
      "<callable_iterator object at 0x000001D5D0E276C8>\n",
      "<class 're.Match'>\n",
      "1 ------ 7\n",
      "<class 're.Match'>\n",
      "4 ------ 9\n",
      "<class 're.Match'>\n",
      "6 ------ 6\n"
     ]
    }
   ],
   "source": [
    "import re\n",
    "matcher = re.finditer('\\d','a7bk9z6')\n",
    "print(matcher)\n",
    "for m in matcher:\n",
    "    print(type(m))\n",
    "    print(m.start(),'------',m.group())"
   ]
  },
  {
   "cell_type": "code",
   "execution_count": 15,
   "metadata": {},
   "outputs": [
    {
     "name": "stdout",
     "output_type": "stream",
     "text": [
      "0 ------ a\n",
      "2 ------ b\n",
      "3 ------ k\n",
      "5 ------ z\n"
     ]
    }
   ],
   "source": [
    "import re\n",
    "matcher = re.finditer('\\D','a7bk9z6')\n",
    "for m in matcher:\n",
    "    print(m.start(),'------',m.group())"
   ]
  },
  {
   "cell_type": "markdown",
   "metadata": {},
   "source": [
    "# 6.sub()\n",
    "#### substitution or replacement\n",
    "#### re.sub('pattern','replacement','target_string')"
   ]
  },
  {
   "cell_type": "code",
   "execution_count": 17,
   "metadata": {},
   "outputs": [
    {
     "name": "stdout",
     "output_type": "stream",
     "text": [
      "a#b#k#t#k\n"
     ]
    }
   ],
   "source": [
    "import re\n",
    "s = re.sub('\\d','#','a7b9k5t9k')\n",
    "print(s)"
   ]
  },
  {
   "cell_type": "code",
   "execution_count": 18,
   "metadata": {},
   "outputs": [
    {
     "name": "stdout",
     "output_type": "stream",
     "text": [
      "****************\n"
     ]
    }
   ],
   "source": [
    "import re\n",
    "s =re.sub('.','*','!@#Mangesh012345')\n",
    "print(s)"
   ]
  },
  {
   "cell_type": "markdown",
   "metadata": {},
   "source": [
    "# 8.subn()\n",
    "#### re.subn(regex,replacement,targetstring)\n",
    "\n",
    "#### n ---> No of replacement happens we will get in the form of tuple.\n",
    "#### The first value in the tuple is resultstring and second value is number of replacements.\n",
    "#### (resultstring,number of replacements)\n",
    "#### Return type of subn method is tuple"
   ]
  },
  {
   "cell_type": "code",
   "execution_count": 20,
   "metadata": {},
   "outputs": [
    {
     "name": "stdout",
     "output_type": "stream",
     "text": [
      "<class 'tuple'>\n",
      "('axxxxbxxxxkxxxxtxxxxk', 4)\n",
      "The result string: axxxxbxxxxkxxxxtxxxxk\n",
      "The number of replacements happened are: 4\n"
     ]
    }
   ],
   "source": [
    "import re\n",
    "t = re.subn('\\d','xxxx','a7b9k5t9k')\n",
    "print(type(t))\n",
    "print(t)\n",
    "print('The result string:',t[0])\n",
    "print('The number of replacements happened are:',t[1])"
   ]
  },
  {
   "cell_type": "markdown",
   "metadata": {},
   "source": [
    "# 9.split()\n"
   ]
  },
  {
   "cell_type": "code",
   "execution_count": 21,
   "metadata": {},
   "outputs": [
    {
     "name": "stdout",
     "output_type": "stream",
     "text": [
      "['10', '20', '30', '40', '50']\n"
     ]
    }
   ],
   "source": [
    "import re\n",
    "l = re.split('-','10-20-30-40-50')\n",
    "print(l)"
   ]
  },
  {
   "cell_type": "code",
   "execution_count": 23,
   "metadata": {},
   "outputs": [
    {
     "name": "stdout",
     "output_type": "stream",
     "text": [
      "['www', 'mahaonline', 'gov', 'in']\n"
     ]
    }
   ],
   "source": [
    "import re\n",
    "l = re.split('\\.','www.mahaonline.gov.in')\n",
    "print(l)"
   ]
  },
  {
   "cell_type": "code",
   "execution_count": 26,
   "metadata": {},
   "outputs": [
    {
     "name": "stdout",
     "output_type": "stream",
     "text": [
      "['www', 'mahaonline', 'gov', 'in']\n"
     ]
    }
   ],
   "source": [
    "import re\n",
    "y = re.split('[.]','www.mahaonline.gov.in')\n",
    "print(y)"
   ]
  },
  {
   "cell_type": "code",
   "execution_count": 29,
   "metadata": {},
   "outputs": [
    {
     "name": "stdout",
     "output_type": "stream",
     "text": [
      "Target string ends with Easyy\n"
     ]
    }
   ],
   "source": [
    "# re.IGNORECASE ignore the case(lower case or upper case)\n",
    "import re\n",
    "s = \"Learning Python is very easyy\"\n",
    "result = re.search(\"Easyy$\",s,re.IGNORECASE)\n",
    "if result != None :\n",
    "    print(\"Target string ends with Easyy\")\n",
    "else:\n",
    "    print(\"Target string is not ends with Easyy\")"
   ]
  },
  {
   "cell_type": "code",
   "execution_count": 30,
   "metadata": {},
   "outputs": [
    {
     "name": "stdout",
     "output_type": "stream",
     "text": [
      "Target string is not ends with Easyy\n"
     ]
    }
   ],
   "source": [
    "import re\n",
    "s = \"Learning Python is very easyy\"\n",
    "result = re.search(\"Easyy$\",s)\n",
    "if result != None :\n",
    "    print(\"Target string ends with Easyy\")\n",
    "else:\n",
    "    print(\"Target string is not ends with Easyy\")"
   ]
  },
  {
   "cell_type": "code",
   "execution_count": 31,
   "metadata": {},
   "outputs": [
    {
     "name": "stdout",
     "output_type": "stream",
     "text": [
      "Target string starts with Learn\n"
     ]
    }
   ],
   "source": [
    "import re\n",
    "s ='Learning python is very easy'\n",
    "m = re.search('^Learn',s)\n",
    "if m != None:\n",
    "    print(\"Target string starts with Learn\")\n",
    "else:\n",
    "    print(\"Not start with Learn\")"
   ]
  },
  {
   "cell_type": "markdown",
   "metadata": {},
   "source": [
    "# Q) Write a regular expression to represent all Java Language identifiers\n",
    "\n",
    "#### 1. The allowed characters are:\n",
    "alphabets,\n",
    "digits,\n",
    "#\n",
    "\n",
    "#### 2. First character should be lower case alphabate symbol from a to k\n",
    "\n",
    "#### 3. The second character should be any digit divisible by 3.\n",
    "\n",
    "#### 4. The length of the identifier should be atleast 2.\n",
    "\n",
    "  "
   ]
  },
  {
   "cell_type": "code",
   "execution_count": 6,
   "metadata": {},
   "outputs": [
    {
     "name": "stdout",
     "output_type": "stream",
     "text": [
      "Enter identifier to validate:a9dhvhj\n",
      "a9dhvhj is valid Identifier\n"
     ]
    }
   ],
   "source": [
    "# [abc]----> either a or b or c\n",
    "\n",
    "# [0369]-----> either 0 or 3 or 6 or 9\n",
    "\n",
    "# [a-k][0369][a-zA-Z0-9#]*\n",
    "\n",
    "import re\n",
    "s = input(\"Enter identifier to validate:\")\n",
    "m = re.fullmatch('[a-k][0369][a-zA-Z0-9#]*',s)\n",
    "if m != None :\n",
    "    print(s,'is valid Identifier')\n",
    "else:\n",
    "    print(s,'is not valid identifier')"
   ]
  },
  {
   "cell_type": "markdown",
   "metadata": {},
   "source": [
    "# Q) write a regular expression to represent all  10 digit mobile Number."
   ]
  },
  {
   "cell_type": "code",
   "execution_count": 15,
   "metadata": {},
   "outputs": [
    {
     "name": "stdout",
     "output_type": "stream",
     "text": [
      "Enter mobile number to validate:9890422848\n",
      "9890422848 is valid mobile number\n"
     ]
    }
   ],
   "source": [
    "# [6-9][0-9]{9} or [6-9]\\d{9}\n",
    "\n",
    "import re\n",
    "s = input('Enter mobile number to validate:')\n",
    "m = re.fullmatch('[6-9]\\d{9}',s)\n",
    "if m != None :\n",
    "    print(s,'is valid mobile number')\n",
    "else:\n",
    "    print(s,'is not valid number')\n"
   ]
  },
  {
   "cell_type": "code",
   "execution_count": 5,
   "metadata": {},
   "outputs": [
    {
     "name": "stdout",
     "output_type": "stream",
     "text": [
      "hahdjddvdbgvgdhsvcjcsb cb cj9890422848jdsvdjsgvJGV8080808080LHbvjdsvbjhlJScljk\n",
      "\n",
      "sdhvfjvjs sbajbdireu;lsd.bchvds KgvztaXSAgghavsakdjckc9840505256hjdbcjhdcjhd\n",
      "\n",
      "scdbjvj jhcjcjcjds cjsbcdbuiqwiefyifis\tougeqywdveggkgdwkhdgvewqo\tw\n",
      "\n",
      "dvvydvovdvihe8087428482dhbvjjas ,chkaskjcsahc hjds9607115288dsjks khdsvsdsk\n",
      "\n",
      "d KBJsssssssssssssssssJasjvcljjc ljdj8607115240dsvmmmmmmmmmmmmmm\n",
      "\n",
      "dsjkvjvqouwfoyifdoouhvlchv hds shgchgds9096121412\n",
      "Extracted all mobile numbers into output.txt\n"
     ]
    }
   ],
   "source": [
    "import re\n",
    "# opening file for reading purpose\n",
    "f1 = open('C:\\\\Users\\\\Mangesh\\\\Desktop\\\\Pandas Practise\\\\input.txt','r')\n",
    "# open f2 to write data to output.txt file\n",
    "f2 = open('output.txt','w')\n",
    "for line in f1:\n",
    "    print(line)\n",
    "    List = re.findall('[6-9]\\d{9}',line)\n",
    "    for number in List:\n",
    "        f2.write(number+\"\\n\")\n",
    "print('Extracted all mobile numbers into output.txt')\n",
    "f1.close()\n",
    "f2.close()\n",
    "        "
   ]
  },
  {
   "cell_type": "markdown",
   "metadata": {},
   "source": [
    "# Web scraping by using Regular Expression\n",
    "##### The process of collecting data from the web pages is called as web scraping."
   ]
  },
  {
   "cell_type": "code",
   "execution_count": 10,
   "metadata": {},
   "outputs": [
    {
     "name": "stdout",
     "output_type": "stream",
     "text": [
      "Searchig... http://google.com\n",
      "<title>Google</title>\n",
      "Searchig... http://rediff.com\n",
      "<title>Rediff.com: News | Rediffmail | Stock Quotes | Shopping</title>\n"
     ]
    }
   ],
   "source": [
    "import re,urllib\n",
    "import urllib.request\n",
    "sites = ['http://google.com','http://rediff.com']\n",
    "for s in sites:\n",
    "    print('Searchig...',s)\n",
    "    u = urllib.request.urlopen(s)\n",
    "    text = u.read()\n",
    "    title = re.findall('<title>.*</title>',str(text),re.IGNORECASE)\n",
    "    print(title[0])"
   ]
  },
  {
   "cell_type": "code",
   "execution_count": 16,
   "metadata": {},
   "outputs": [
    {
     "name": "stdout",
     "output_type": "stream",
     "text": [
      "+919945600000\n",
      "+919945600000\n",
      "+919945600000\n",
      "+919945600000\n",
      "+919945600000\n",
      "+919945600000\n",
      "+919945600000\n",
      "+919945600000\n",
      "+919945600000\n",
      "+919945600000\n"
     ]
    }
   ],
   "source": [
    "import re,urllib\n",
    "import urllib.request\n",
    "u = urllib.request.urlopen('http://www.redbus.in/info/contactus')\n",
    "text = u.read()\n",
    "numbers = re.findall('[+]\\d[0-9]{11}',str(text))\n",
    "for n in numbers:\n",
    "    print(n)"
   ]
  },
  {
   "cell_type": "markdown",
   "metadata": {},
   "source": [
    "# Write a python program to check whether given maid id's are valid or not."
   ]
  },
  {
   "cell_type": "code",
   "execution_count": 21,
   "metadata": {},
   "outputs": [
    {
     "name": "stdout",
     "output_type": "stream",
     "text": [
      "Enter email id:mangeshh902@gmail.com\n",
      "Valid mail id\n"
     ]
    }
   ],
   "source": [
    "import re\n",
    "s = input(\"Enter email id:\")\n",
    "m = re.fullmatch('\\w[a-zA-Z0-9_.]*@(gmail|rediffmail)[.]com+',s)\n",
    "if m != None:\n",
    "    print(\"Valid mail id\")\n",
    "else:\n",
    "    print(\"Invalid email id\")"
   ]
  },
  {
   "cell_type": "code",
   "execution_count": null,
   "metadata": {},
   "outputs": [],
   "source": []
  }
 ],
 "metadata": {
  "kernelspec": {
   "display_name": "Python 3",
   "language": "python",
   "name": "python3"
  },
  "language_info": {
   "codemirror_mode": {
    "name": "ipython",
    "version": 3
   },
   "file_extension": ".py",
   "mimetype": "text/x-python",
   "name": "python",
   "nbconvert_exporter": "python",
   "pygments_lexer": "ipython3",
   "version": "3.7.6"
  }
 },
 "nbformat": 4,
 "nbformat_minor": 4
}
